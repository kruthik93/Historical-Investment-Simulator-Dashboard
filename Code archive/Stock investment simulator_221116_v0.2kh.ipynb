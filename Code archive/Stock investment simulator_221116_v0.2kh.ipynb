{
 "cells": [
  {
   "cell_type": "markdown",
   "id": "289df7d8",
   "metadata": {},
   "source": [
    "# Objective: Create a tool to simulate end result of investing based on investments into certain stocks\n",
    "### The tool should be able to take in an input bi-weekly or monthly amount and simulate what the final amount would have been if it was invested in one stock or multiple stocks"
   ]
  },
  {
   "cell_type": "markdown",
   "id": "2dd33fa8",
   "metadata": {},
   "source": [
    "### This will be a streamlined notebook which will ahve everything in an input and output format with functions if necessary"
   ]
  },
  {
   "cell_type": "code",
   "execution_count": 1,
   "id": "85e98fc0",
   "metadata": {},
   "outputs": [],
   "source": [
    "#Loading required libraries\n",
    "\n",
    "#Importing for data handling and math\n",
    "import pandas as pd\n",
    "import numpy as np\n",
    "#Importing for downloading stock data and company financials if required\n",
    "import yfinance as yf\n",
    "from yahoofinancials import YahooFinancials\n",
    "#Importing datetime\n",
    "from datetime import datetime\n",
    "from dateutil.relativedelta import relativedelta"
   ]
  },
  {
   "cell_type": "markdown",
   "id": "d1bd9f37",
   "metadata": {},
   "source": [
    "# Input section"
   ]
  },
  {
   "cell_type": "code",
   "execution_count": 2,
   "id": "406cf546",
   "metadata": {},
   "outputs": [
    {
     "name": "stdout",
     "output_type": "stream",
     "text": [
      "  Ticker  Inv_perc\n",
      "0   AAPL         1\n",
      "['AAPL']\n"
     ]
    }
   ],
   "source": [
    "# This section will contain all the input from the user which has to be provided\n",
    "\n",
    "#Input the list of Tickers to be downloaded\n",
    "#Creating a dictionary of stocks and investment percentages\n",
    "inv_mix_dict = {'Ticker':['AAPL'],\n",
    "                'Inv_perc':[1]}\n",
    "\n",
    "inv_mix_df = pd.DataFrame(inv_mix_dict)\n",
    "\n",
    "print(inv_mix_df)\n",
    "\n",
    "ticker_list = list(inv_mix_df.Ticker)\n",
    "\n",
    "print(ticker_list)\n",
    "\n",
    "#Taking in start and end dates of investments\n",
    "start_dt = '2018-07-01'\n",
    "end_dt = '2023-07-01'\n",
    "\n",
    "#need to filter for days of investment i.e 15th and 30th\n",
    "inv_days = [10,25]\n",
    "\n",
    "#Regular Bi-weekly investment amount\n",
    "reg_inv_amt = 4000"
   ]
  },
  {
   "cell_type": "markdown",
   "id": "3e2410eb",
   "metadata": {},
   "source": [
    "## Data Gathering"
   ]
  },
  {
   "cell_type": "code",
   "execution_count": 10,
   "id": "f4a5fce1",
   "metadata": {},
   "outputs": [
    {
     "name": "stderr",
     "output_type": "stream",
     "text": [
      "C:\\Users\\kruth\\AppData\\Local\\Temp\\ipykernel_29764\\3624951928.py:6: FutureWarning: YF.download() has changed argument auto_adjust default to True\n",
      "  ticker_df = yf.download(ticker,\n",
      "[*********************100%***********************]  1 of 1 completed"
     ]
    },
    {
     "name": "stdout",
     "output_type": "stream",
     "text": [
      "extracting AAPL\n",
      "dataframe is empty\n",
      "loading AAPL into dataframe\n",
      "Price        Date      Close       High        Low       Open    Volume Ticker\n",
      "Ticker                  AAPL       AAPL       AAPL       AAPL      AAPL       \n",
      "0      2018-07-02  44.277512  44.305900  43.388083  43.482706  70925200   AAPL\n",
      "1      2018-07-03  43.506348  44.459645  43.416457  44.421797  55819200   AAPL\n",
      "2      2018-07-05  43.856449  44.095367  43.591514  43.823332  66416800   AAPL\n",
      "3      2018-07-06  44.464367  44.573178  43.809121  43.861163  69940800   AAPL\n",
      "4      2018-07-09  45.081772  45.105425  44.778988  44.826297  79026400   AAPL\n",
      "5      2018-07-10  45.027374  45.247364  44.987158  45.112533  63756400   AAPL\n",
      "6      2018-07-11  44.443092  44.892537  44.379223  44.589752  75326000   AAPL\n",
      "7      2018-07-12  45.188232  45.278123  44.781365  44.833407  72164400   AAPL\n",
      "8      2018-07-13  45.259186  45.379825  45.157467  45.200048  50055600   AAPL\n",
      "9      2018-07-16  45.159847  45.571443  45.043936  45.304143  60172400   AAPL\n",
      "10     2018-07-17  45.287579  45.386929  44.755340  44.885444  62138000   AAPL\n",
      "11     2018-07-18  45.039207  45.370380  44.928028  45.365648  65573600   AAPL\n",
      "12     2018-07-19  45.389294  45.547782  44.871248  44.871248  81147200   AAPL\n",
      "13     2018-07-20  45.285213  45.519396  44.984793  45.365640  82704800   AAPL\n",
      "14     2018-07-23  45.325436  45.408230  44.840506  45.105442  63957600   AAPL\n",
      "15     2018-07-24  45.654232  45.810356  45.429510  45.524129  74791600   AAPL\n",
      "16     2018-07-25  46.084763  46.091859  45.519404  45.668431  66839600   AAPL\n",
      "17     2018-07-26  45.940456  46.354420  45.798525  46.035075  76304000   AAPL\n",
      "18     2018-07-27  45.176392  46.172270  44.968230  46.124961  96096000   AAPL\n",
      "19     2018-07-30  44.923294  45.464993  44.724593  45.394027  84118000   AAPL\n",
      "(1258, 7)\n"
     ]
    },
    {
     "name": "stderr",
     "output_type": "stream",
     "text": [
      "\n"
     ]
    }
   ],
   "source": [
    "#Creating a dataframe capturing stocks data as a timeseries\n",
    "stock_df = pd.DataFrame()\n",
    "\n",
    "for ticker in ticker_list:\n",
    "    print('extracting {}'.format(ticker))\n",
    "    ticker_df = yf.download(ticker,\n",
    "                     start = start_dt,\n",
    "                     end = end_dt)\n",
    "    ticker_df = ticker_df.reset_index()\n",
    "    ticker_df['Ticker'] = ticker\n",
    "    if stock_df.empty:\n",
    "        print(\"dataframe is empty\")\n",
    "        print(\"loading {} into dataframe\".format(ticker))\n",
    "        stock_df = ticker_df\n",
    "    else:\n",
    "        print(\"loading {} into dataframe\".format(ticker))\n",
    "        stock_df = pd.concat([stock_df,ticker_df])\n",
    "\n",
    "print(stock_df.head(20))\n",
    "print(stock_df.shape)"
   ]
  },
  {
   "cell_type": "markdown",
   "id": "54911bee",
   "metadata": {},
   "source": [
    "## Feature Engineering\n",
    "Adding other required features"
   ]
  },
  {
   "cell_type": "code",
   "execution_count": 11,
   "id": "b599aaa9",
   "metadata": {},
   "outputs": [
    {
     "name": "stdout",
     "output_type": "stream",
     "text": [
      "Price       Date      Close       High        Low       Open    Volume Ticker  \\\n",
      "0     2018-07-02  44.277512  44.305900  43.388083  43.482706  70925200   AAPL   \n",
      "1     2018-07-03  43.506348  44.459645  43.416457  44.421797  55819200   AAPL   \n",
      "2     2018-07-05  43.856449  44.095367  43.591514  43.823332  66416800   AAPL   \n",
      "3     2018-07-06  44.464367  44.573178  43.809121  43.861163  69940800   AAPL   \n",
      "4     2018-07-09  45.081772  45.105425  44.778988  44.826297  79026400   AAPL   \n",
      "\n",
      "Price        Avg  Day  \n",
      "0      43.846992    2  \n",
      "1      43.938051    3  \n",
      "2      43.843441    5  \n",
      "3      44.191150    6  \n",
      "4      44.942206    9  \n"
     ]
    }
   ],
   "source": [
    "#need to figure out how to calculate mean row by row\n",
    "stock_df['Avg'] = stock_df[['High','Low']].mean(axis=1)\n",
    "\n",
    "#Creating the day number marker as a column\n",
    "stock_df['Day'] = stock_df.Date.dt.day\n",
    "\n",
    "#removing multiindex from the dataframe\n",
    "stock_df.columns = stock_df.columns.droplevel(1)\n",
    "\n",
    "print(stock_df.head(5))"
   ]
  },
  {
   "cell_type": "code",
   "execution_count": 12,
   "id": "84a82208",
   "metadata": {},
   "outputs": [
    {
     "data": {
      "text/html": [
       "<div>\n",
       "<style scoped>\n",
       "    .dataframe tbody tr th:only-of-type {\n",
       "        vertical-align: middle;\n",
       "    }\n",
       "\n",
       "    .dataframe tbody tr th {\n",
       "        vertical-align: top;\n",
       "    }\n",
       "\n",
       "    .dataframe thead th {\n",
       "        text-align: right;\n",
       "    }\n",
       "</style>\n",
       "<table border=\"1\" class=\"dataframe\">\n",
       "  <thead>\n",
       "    <tr style=\"text-align: right;\">\n",
       "      <th>Price</th>\n",
       "      <th>index</th>\n",
       "      <th>Ticker</th>\n",
       "      <th>Latest_date</th>\n",
       "      <th>Date</th>\n",
       "      <th>Latest_avg</th>\n",
       "    </tr>\n",
       "  </thead>\n",
       "  <tbody>\n",
       "    <tr>\n",
       "      <th>0</th>\n",
       "      <td>0</td>\n",
       "      <td>AAPL</td>\n",
       "      <td>2023-06-30</td>\n",
       "      <td>2023-06-30</td>\n",
       "      <td>190.958078</td>\n",
       "    </tr>\n",
       "  </tbody>\n",
       "</table>\n",
       "</div>"
      ],
      "text/plain": [
       "Price  index Ticker Latest_date       Date  Latest_avg\n",
       "0          0   AAPL  2023-06-30 2023-06-30  190.958078"
      ]
     },
     "execution_count": 12,
     "metadata": {},
     "output_type": "execute_result"
    }
   ],
   "source": [
    "#Now we need the price of the stocks during the latest day\n",
    "#Filtering the stock data for the days of investment\n",
    "stock_latest_dt_df = stock_df.groupby('Ticker').agg({'Date':'max'}).reset_index().rename(columns={'Date':'Latest_date'})\n",
    "stock_latest_dt_df\n",
    "#Bringing out the latest price for the stock\n",
    "stock_latest_df = stock_latest_dt_df.merge(stock_df[['Ticker','Date','Avg']], left_on = ['Ticker','Latest_date'], right_on = ['Ticker','Date'], how = 'left').reset_index().rename(columns={'Avg':'Latest_avg'})\n",
    "stock_latest_df"
   ]
  },
  {
   "cell_type": "code",
   "execution_count": null,
   "id": "3cefb547",
   "metadata": {},
   "outputs": [],
   "source": [
    "#Creating a subset of the dataframe for days where the investments would have occured\n",
    "stock_inv_days_df = stock_df[stock_df['Day'].isin(inv_days)]\n",
    "\n",
    "#Adding a column to denote investment amount\n",
    "stock_inv_days_df['Reg_inv_amt'] = reg_inv_amt\n",
    "\n",
    "#Mapping this back to the the investment days dataframe\n",
    "print(stock_inv_days_df.shape)\n",
    "stock_inv_days_df = stock_inv_days_df.merge(inv_mix_df,on=['Ticker'],how='left')\n",
    "print(stock_inv_days_df.shape)\n",
    "\n",
    "#Amount invested\n",
    "stock_inv_days_df['Stock_inv_amt'] = stock_inv_days_df['Reg_inv_amt']*stock_inv_days_df['Inv_perc']\n",
    "\n",
    "#Quantity bought\n",
    "stock_inv_days_df['Stock_qty'] = stock_inv_days_df['Stock_inv_amt']/stock_inv_days_df['Avg']\n",
    "\n",
    "#Merging this back to the investment df\n",
    "stock_inv_days_df = stock_inv_days_df.merge(stock_latest_df[['Ticker','Latest_avg']], on = ['Ticker'], how = 'left')\n",
    "stock_inv_days_df['Latest_value'] = stock_inv_days_df['Stock_qty']*stock_inv_days_df['Latest_avg']\n",
    "\n",
    "print(stock_inv_days_df.head(5))"
   ]
  },
  {
   "cell_type": "markdown",
   "id": "376c3334",
   "metadata": {},
   "source": [
    "## Return calculation"
   ]
  },
  {
   "cell_type": "code",
   "execution_count": null,
   "id": "fc558abc",
   "metadata": {},
   "outputs": [],
   "source": [
    "#Final portfolio value is\n",
    "portfolio_value = stock_inv_days_df['Latest_value'].sum().round(2)\n",
    "print(portfolio_value)"
   ]
  },
  {
   "cell_type": "code",
   "execution_count": null,
   "id": "57d047bb",
   "metadata": {},
   "outputs": [],
   "source": [
    "#Final amount invested is\n",
    "invested_amt = stock_inv_days_df['Stock_inv_amt'].sum().round(2)\n",
    "print(invested_amt)"
   ]
  },
  {
   "cell_type": "code",
   "execution_count": null,
   "id": "43cc3d28",
   "metadata": {},
   "outputs": [],
   "source": [
    "#Amount of money made\n",
    "return_amt = (portfolio_value-invested_amt).round(2)\n",
    "print(return_amt)"
   ]
  },
  {
   "cell_type": "code",
   "execution_count": null,
   "id": "4ef9028d",
   "metadata": {},
   "outputs": [],
   "source": [
    "#Percentage return\n",
    "perc_return = ((portfolio_value/invested_amt-1)*100).round(2)\n",
    "print(perc_return)"
   ]
  },
  {
   "cell_type": "code",
   "execution_count": null,
   "id": "9f4c910e",
   "metadata": {},
   "outputs": [],
   "source": [
    "#Amount of time passed\n",
    "difference_in_years = relativedelta(datetime.strptime(end_dt,'%Y-%m-%d'), datetime.strptime(start_dt,'%Y-%m-%d')).years\n",
    "difference_in_years"
   ]
  },
  {
   "cell_type": "code",
   "execution_count": null,
   "id": "00f288a4",
   "metadata": {},
   "outputs": [],
   "source": []
  }
 ],
 "metadata": {
  "kernelspec": {
   "display_name": ".inv_sim_venv",
   "language": "python",
   "name": "python3"
  },
  "language_info": {
   "codemirror_mode": {
    "name": "ipython",
    "version": 3
   },
   "file_extension": ".py",
   "mimetype": "text/x-python",
   "name": "python",
   "nbconvert_exporter": "python",
   "pygments_lexer": "ipython3",
   "version": "3.9.13"
  }
 },
 "nbformat": 4,
 "nbformat_minor": 5
}
